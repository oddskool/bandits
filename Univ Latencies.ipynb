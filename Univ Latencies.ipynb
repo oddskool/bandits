{
 "cells": [
  {
   "cell_type": "code",
   "execution_count": 1,
   "metadata": {
    "collapsed": false
   },
   "outputs": [
    {
     "name": "stdout",
     "output_type": "stream",
     "text": [
      "Populating the interactive namespace from numpy and matplotlib\n"
     ]
    }
   ],
   "source": [
    "%pylab inline\n",
    "import pandas as pd"
   ]
  },
  {
   "cell_type": "code",
   "execution_count": 97,
   "metadata": {
    "collapsed": true
   },
   "outputs": [],
   "source": [
    "df = pd.read_csv('data/univ-latencies/univ-latencies.txt')"
   ]
  },
  {
   "cell_type": "code",
   "execution_count": 89,
   "metadata": {
    "collapsed": false
   },
   "outputs": [
    {
     "data": {
      "text/html": [
       "<div>\n",
       "<table border=\"1\" class=\"dataframe\">\n",
       "  <thead>\n",
       "    <tr style=\"text-align: right;\">\n",
       "      <th></th>\n",
       "      <th>acu-edu</th>\n",
       "      <th>acadiau-ca</th>\n",
       "      <th>adrian-edu</th>\n",
       "      <th>agnesscott-edu</th>\n",
       "      <th>aims-edu</th>\n",
       "      <th>uni-freiburg-de</th>\n",
       "      <th>alfred-edu</th>\n",
       "      <th>alvernia-edu</th>\n",
       "      <th>alverno-edu</th>\n",
       "      <th>american-edu</th>\n",
       "      <th>...</th>\n",
       "      <th>williams-edu</th>\n",
       "      <th>wsc-nodak-edu</th>\n",
       "      <th>winona-msus-edu</th>\n",
       "      <th>wpi-edu</th>\n",
       "      <th>wright-edu</th>\n",
       "      <th>yale-edu</th>\n",
       "      <th>yu-edu</th>\n",
       "      <th>yorku-ca</th>\n",
       "      <th>upenn-edu</th>\n",
       "      <th>ens-fr</th>\n",
       "    </tr>\n",
       "  </thead>\n",
       "  <tbody>\n",
       "    <tr>\n",
       "      <th>0</th>\n",
       "      <td>396</td>\n",
       "      <td>381</td>\n",
       "      <td>488</td>\n",
       "      <td>506</td>\n",
       "      <td>333</td>\n",
       "      <td>1327</td>\n",
       "      <td>132</td>\n",
       "      <td>70</td>\n",
       "      <td>456</td>\n",
       "      <td>121</td>\n",
       "      <td>...</td>\n",
       "      <td>220</td>\n",
       "      <td>1898</td>\n",
       "      <td>434</td>\n",
       "      <td>125</td>\n",
       "      <td>304</td>\n",
       "      <td>94</td>\n",
       "      <td>460</td>\n",
       "      <td>347</td>\n",
       "      <td>532</td>\n",
       "      <td>429</td>\n",
       "    </tr>\n",
       "    <tr>\n",
       "      <th>1</th>\n",
       "      <td>271</td>\n",
       "      <td>261</td>\n",
       "      <td>488</td>\n",
       "      <td>504</td>\n",
       "      <td>276</td>\n",
       "      <td>1084</td>\n",
       "      <td>89</td>\n",
       "      <td>23</td>\n",
       "      <td>409</td>\n",
       "      <td>34</td>\n",
       "      <td>...</td>\n",
       "      <td>263</td>\n",
       "      <td>1032</td>\n",
       "      <td>294</td>\n",
       "      <td>74</td>\n",
       "      <td>269</td>\n",
       "      <td>252</td>\n",
       "      <td>98</td>\n",
       "      <td>265</td>\n",
       "      <td>233</td>\n",
       "      <td>293</td>\n",
       "    </tr>\n",
       "  </tbody>\n",
       "</table>\n",
       "<p>2 rows × 760 columns</p>\n",
       "</div>"
      ],
      "text/plain": [
       "   acu-edu   acadiau-ca   adrian-edu   agnesscott-edu   aims-edu  \\\n",
       "0      396          381          488              506        333   \n",
       "1      271          261          488              504        276   \n",
       "\n",
       "    uni-freiburg-de   alfred-edu   alvernia-edu   alverno-edu   american-edu  \\\n",
       "0              1327          132             70           456            121   \n",
       "1              1084           89             23           409             34   \n",
       "\n",
       "    ...      williams-edu   wsc-nodak-edu   winona-msus-edu   wpi-edu  \\\n",
       "0   ...               220            1898               434       125   \n",
       "1   ...               263            1032               294        74   \n",
       "\n",
       "    wright-edu   yale-edu   yu-edu   yorku-ca   upenn-edu   ens-fr  \n",
       "0          304         94      460        347         532      429  \n",
       "1          269        252       98        265         233      293  \n",
       "\n",
       "[2 rows x 760 columns]"
      ]
     },
     "execution_count": 89,
     "metadata": {},
     "output_type": "execute_result"
    }
   ],
   "source": [
    "df.head(2)"
   ]
  },
  {
   "cell_type": "code",
   "execution_count": 158,
   "metadata": {
    "collapsed": false
   },
   "outputs": [],
   "source": [
    "mini = df.ix[:,:10]"
   ]
  },
  {
   "cell_type": "code",
   "execution_count": 159,
   "metadata": {
    "collapsed": false
   },
   "outputs": [
    {
     "data": {
      "text/html": [
       "<div>\n",
       "<table border=\"1\" class=\"dataframe\">\n",
       "  <thead>\n",
       "    <tr style=\"text-align: right;\">\n",
       "      <th></th>\n",
       "      <th>acu-edu</th>\n",
       "      <th>acadiau-ca</th>\n",
       "      <th>adrian-edu</th>\n",
       "      <th>agnesscott-edu</th>\n",
       "      <th>aims-edu</th>\n",
       "      <th>uni-freiburg-de</th>\n",
       "      <th>alfred-edu</th>\n",
       "      <th>alvernia-edu</th>\n",
       "      <th>alverno-edu</th>\n",
       "      <th>american-edu</th>\n",
       "    </tr>\n",
       "  </thead>\n",
       "  <tbody>\n",
       "    <tr>\n",
       "      <th>0</th>\n",
       "      <td>396</td>\n",
       "      <td>381</td>\n",
       "      <td>488</td>\n",
       "      <td>506</td>\n",
       "      <td>333</td>\n",
       "      <td>1327</td>\n",
       "      <td>132</td>\n",
       "      <td>70</td>\n",
       "      <td>456</td>\n",
       "      <td>121</td>\n",
       "    </tr>\n",
       "    <tr>\n",
       "      <th>1</th>\n",
       "      <td>271</td>\n",
       "      <td>261</td>\n",
       "      <td>488</td>\n",
       "      <td>504</td>\n",
       "      <td>276</td>\n",
       "      <td>1084</td>\n",
       "      <td>89</td>\n",
       "      <td>23</td>\n",
       "      <td>409</td>\n",
       "      <td>34</td>\n",
       "    </tr>\n",
       "  </tbody>\n",
       "</table>\n",
       "</div>"
      ],
      "text/plain": [
       "   acu-edu   acadiau-ca   adrian-edu   agnesscott-edu   aims-edu  \\\n",
       "0      396          381          488              506        333   \n",
       "1      271          261          488              504        276   \n",
       "\n",
       "    uni-freiburg-de   alfred-edu   alvernia-edu   alverno-edu   american-edu  \n",
       "0              1327          132             70           456            121  \n",
       "1              1084           89             23           409             34  "
      ]
     },
     "execution_count": 159,
     "metadata": {},
     "output_type": "execute_result"
    }
   ],
   "source": [
    "mini.head(2)"
   ]
  },
  {
   "cell_type": "code",
   "execution_count": 160,
   "metadata": {
    "collapsed": false
   },
   "outputs": [
    {
     "data": {
      "text/plain": [
       "[<matplotlib.lines.Line2D at 0x117d896a0>]"
      ]
     },
     "execution_count": 160,
     "metadata": {},
     "output_type": "execute_result"
    },
    {
     "data": {
      "image/png": "[encoded data removed]",
      "text/plain": [
       "<matplotlib.figure.Figure at 0x11822e400>"
      ]
     },
     "metadata": {},
     "output_type": "display_data"
    }
   ],
   "source": [
    "plt.title(\"Mean Latency per arm\")\n",
    "plt.plot(sorted(mini.mean()))"
   ]
  },
  {
   "cell_type": "code",
   "execution_count": 161,
   "metadata": {
    "collapsed": false
   },
   "outputs": [
    {
     "name": "stdout",
     "output_type": "stream",
     "text": [
      "optimal strategy (oracle) mean reward: 26.54\n",
      "worst: 1933.03\n",
      "random: 449.90\n",
      "improvement ratio opt/rand: 16x\n"
     ]
    }
   ],
   "source": [
    "optimal = mini.min(axis=1).mean()\n",
    "worst = mini.max(axis=1).mean()\n",
    "random = np.mean(\n",
    "    [ np.mean([np.random.choice(mini.ix[:, t]) for t in range(mini.shape[1])]) for _ in range(30) ]\n",
    ")\n",
    "print(\"optimal strategy (oracle) mean reward: %.2f\" % optimal)\n",
    "print(\"worst: %.2f\" % worst)\n",
    "print(\"random: %.2f\" % random)\n",
    "print(\"improvement ratio opt/rand: %dx\" % (random/optimal))"
   ]
  },
  {
   "cell_type": "code",
   "execution_count": 234,
   "metadata": {
    "collapsed": false
   },
   "outputs": [],
   "source": [
    "reward_sum_per_arm = np.ones(mini.shape[1])\n",
    "actions_per_arm = np.ones(mini.shape[1])\n",
    "actions = []\n",
    "regret = []\n",
    "for t in range(mini.shape[0]):\n",
    "    mean_latency_per_arm = reward_sum_per_arm/actions_per_arm\n",
    "    mean_latency_per_arm = 1/mean_latency_per_arm\n",
    "    mean_latency_per_arm = mean_latency_per_arm / np.sum(mean_latency_per_arm)\n",
    "    a = np.random.choice(range(len(mean_latency_per_arm)), p=mean_latency_per_arm)\n",
    "    r = mini.ix[t, a]\n",
    "    reward_sum_per_arm[a] += r\n",
    "    actions_per_arm[a] += 1\n",
    "    actions += [a]\n",
    "    regret += [r - mini.ix[t,:].min()]"
   ]
  },
  {
   "cell_type": "code",
   "execution_count": 235,
   "metadata": {
    "collapsed": false
   },
   "outputs": [
    {
     "name": "stdout",
     "output_type": "stream",
     "text": [
      "mean latency achieved: 193.73\n",
      "vs random: 0.43x\n",
      "vs optim : 7.30x\n",
      "mean regret: 168.61\n"
     ]
    }
   ],
   "source": [
    "mean_lat = np.sum(reward_sum_per_arm) / np.sum(actions_per_arm)\n",
    "print(\"mean latency achieved: %.2f\" % mean_lat)\n",
    "print(\"vs random: %.2fx\" % (mean_lat/random))\n",
    "print(\"vs optim : %.2fx\" % (mean_lat/optimal))\n",
    "print(\"mean regret: %.2f\" % np.mean(regret))"
   ]
  },
  {
   "cell_type": "code",
   "execution_count": 236,
   "metadata": {
    "collapsed": false
   },
   "outputs": [
    {
     "data": {
      "text/plain": [
       "<matplotlib.legend.Legend at 0x11f805a58>"
      ]
     },
     "execution_count": 236,
     "metadata": {},
     "output_type": "execute_result"
    },
    {
     "data": {
      "image/png": "[encoded data removed]",
      "text/plain": [
       "<matplotlib.figure.Figure at 0x1192c8400>"
      ]
     },
     "metadata": {},
     "output_type": "display_data"
    }
   ],
   "source": [
    "plt.title('Chosen arm frequency')\n",
    "plt.hist(actions, bins=arms.shape[0], alpha=.5, label='arm freq.', align='left')\n",
    "plt.plot(mini.mean().values, label='arm true lat.')\n",
    "plt.legend()"
   ]
  },
  {
   "cell_type": "code",
   "execution_count": 242,
   "metadata": {
    "collapsed": false
   },
   "outputs": [
    {
     "data": {
      "text/html": [
       "<div>\n",
       "<table border=\"1\" class=\"dataframe\">\n",
       "  <thead>\n",
       "    <tr style=\"text-align: right;\">\n",
       "      <th></th>\n",
       "      <th>true_mean_lat</th>\n",
       "      <th>chosen_freq</th>\n",
       "      <th>exp_mean_lat</th>\n",
       "    </tr>\n",
       "  </thead>\n",
       "  <tbody>\n",
       "    <tr>\n",
       "      <th>7</th>\n",
       "      <td>40.316679</td>\n",
       "      <td>594</td>\n",
       "      <td>37.156566</td>\n",
       "    </tr>\n",
       "    <tr>\n",
       "      <th>9</th>\n",
       "      <td>162.451874</td>\n",
       "      <td>136</td>\n",
       "      <td>378.992647</td>\n",
       "    </tr>\n",
       "    <tr>\n",
       "      <th>6</th>\n",
       "      <td>173.508450</td>\n",
       "      <td>154</td>\n",
       "      <td>127.655844</td>\n",
       "    </tr>\n",
       "    <tr>\n",
       "      <th>1</th>\n",
       "      <td>223.562821</td>\n",
       "      <td>128</td>\n",
       "      <td>165.085938</td>\n",
       "    </tr>\n",
       "    <tr>\n",
       "      <th>4</th>\n",
       "      <td>312.650257</td>\n",
       "      <td>69</td>\n",
       "      <td>299.550725</td>\n",
       "    </tr>\n",
       "    <tr>\n",
       "      <th>0</th>\n",
       "      <td>391.088170</td>\n",
       "      <td>77</td>\n",
       "      <td>285.597403</td>\n",
       "    </tr>\n",
       "    <tr>\n",
       "      <th>8</th>\n",
       "      <td>428.579721</td>\n",
       "      <td>61</td>\n",
       "      <td>397.819672</td>\n",
       "    </tr>\n",
       "    <tr>\n",
       "      <th>3</th>\n",
       "      <td>478.344600</td>\n",
       "      <td>66</td>\n",
       "      <td>407.272727</td>\n",
       "    </tr>\n",
       "    <tr>\n",
       "      <th>2</th>\n",
       "      <td>531.591477</td>\n",
       "      <td>56</td>\n",
       "      <td>429.160714</td>\n",
       "    </tr>\n",
       "    <tr>\n",
       "      <th>5</th>\n",
       "      <td>1433.167524</td>\n",
       "      <td>30</td>\n",
       "      <td>1112.200000</td>\n",
       "    </tr>\n",
       "  </tbody>\n",
       "</table>\n",
       "</div>"
      ],
      "text/plain": [
       "   true_mean_lat  chosen_freq  exp_mean_lat\n",
       "7      40.316679          594     37.156566\n",
       "9     162.451874          136    378.992647\n",
       "6     173.508450          154    127.655844\n",
       "1     223.562821          128    165.085938\n",
       "4     312.650257           69    299.550725\n",
       "0     391.088170           77    285.597403\n",
       "8     428.579721           61    397.819672\n",
       "3     478.344600           66    407.272727\n",
       "2     531.591477           56    429.160714\n",
       "5    1433.167524           30   1112.200000"
      ]
     },
     "execution_count": 242,
     "metadata": {},
     "output_type": "execute_result"
    }
   ],
   "source": [
    "means = mini.mean()\n",
    "comp = pd.DataFrame(pd.concat([\n",
    "            means, \n",
    "            pd.Series(actions_per_arm, index=means.index),\n",
    "            pd.Series(reward_sum_per_arm/actions_per_arm, index=means.index),\n",
    "        ], axis=1).values, columns=['true_mean_lat', 'chosen_freq', 'exp_mean_lat'])\n",
    "comp = comp.sort_values(by='true_mean_lat')\n",
    "comp"
   ]
  },
  {
   "cell_type": "code",
   "execution_count": 229,
   "metadata": {
    "collapsed": true
   },
   "outputs": [],
   "source": [
    "def moving_average(a, n=3) :\n",
    "    ret = np.cumsum(a, dtype=float)\n",
    "    ret[n:] = ret[n:] - ret[:-n]\n",
    "    return ret[n - 1:] / n"
   ]
  },
  {
   "cell_type": "code",
   "execution_count": null,
   "metadata": {
    "collapsed": false
   },
   "outputs": [
    {
     "data": {
      "text/plain": [
       "[<matplotlib.lines.Line2D at 0x1198c60f0>]"
      ]
     },
     "execution_count": 249,
     "metadata": {},
     "output_type": "execute_result"
    }
   ],
   "source": [
    "cumulated_mean_regret = np.cumsum(regret)/np.cumsum(np.ones(len(regret)))\n",
    "plt.title('cumulated mean regret')\n",
    "plt.plot(cumulated_mean_regret, alpha=.5)\n",
    "#plt.plot(moving_average(cumulated_mean_regret, 30), 'g--')"
   ]
  }
 ],
 "metadata": {
  "kernelspec": {
   "display_name": "Python 3",
   "language": "python",
   "name": "python3"
  },
  "language_info": {
   "codemirror_mode": {
    "name": "ipython",
    "version": 3
   },
   "file_extension": ".py",
   "mimetype": "text/x-python",
   "name": "python",
   "nbconvert_exporter": "python",
   "pygments_lexer": "ipython3",
   "version": "3.5.1"
  }
 },
 "nbformat": 4,
 "nbformat_minor": 0
}

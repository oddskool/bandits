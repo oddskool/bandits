{
 "cells": [
  {
   "cell_type": "code",
   "execution_count": 8,
   "metadata": {
    "collapsed": false
   },
   "outputs": [
    {
     "name": "stdout",
     "output_type": "stream",
     "text": [
      "Populating the interactive namespace from numpy and matplotlib\n"
     ]
    }
   ],
   "source": [
    "%pylab inline\n",
    "import pandas as pd"
   ]
  },
  {
   "cell_type": "markdown",
   "metadata": {},
   "source": [
    "# Dataset"
   ]
  },
  {
   "cell_type": "code",
   "execution_count": 9,
   "metadata": {
    "collapsed": true
   },
   "outputs": [],
   "source": [
    "df = pd.read_csv('data/univ-latencies/univ-latencies.txt')"
   ]
  },
  {
   "cell_type": "code",
   "execution_count": 10,
   "metadata": {
    "collapsed": false
   },
   "outputs": [
    {
     "data": {
      "text/html": [
       "<div>\n",
       "<table border=\"1\" class=\"dataframe\">\n",
       "  <thead>\n",
       "    <tr style=\"text-align: right;\">\n",
       "      <th></th>\n",
       "      <th>acu-edu</th>\n",
       "      <th>acadiau-ca</th>\n",
       "      <th>adrian-edu</th>\n",
       "      <th>agnesscott-edu</th>\n",
       "      <th>aims-edu</th>\n",
       "      <th>uni-freiburg-de</th>\n",
       "      <th>alfred-edu</th>\n",
       "      <th>alvernia-edu</th>\n",
       "      <th>alverno-edu</th>\n",
       "      <th>american-edu</th>\n",
       "      <th>...</th>\n",
       "      <th>williams-edu</th>\n",
       "      <th>wsc-nodak-edu</th>\n",
       "      <th>winona-msus-edu</th>\n",
       "      <th>wpi-edu</th>\n",
       "      <th>wright-edu</th>\n",
       "      <th>yale-edu</th>\n",
       "      <th>yu-edu</th>\n",
       "      <th>yorku-ca</th>\n",
       "      <th>upenn-edu</th>\n",
       "      <th>ens-fr</th>\n",
       "    </tr>\n",
       "  </thead>\n",
       "  <tbody>\n",
       "    <tr>\n",
       "      <th>0</th>\n",
       "      <td>396</td>\n",
       "      <td>381</td>\n",
       "      <td>488</td>\n",
       "      <td>506</td>\n",
       "      <td>333</td>\n",
       "      <td>1327</td>\n",
       "      <td>132</td>\n",
       "      <td>70</td>\n",
       "      <td>456</td>\n",
       "      <td>121</td>\n",
       "      <td>...</td>\n",
       "      <td>220</td>\n",
       "      <td>1898</td>\n",
       "      <td>434</td>\n",
       "      <td>125</td>\n",
       "      <td>304</td>\n",
       "      <td>94</td>\n",
       "      <td>460</td>\n",
       "      <td>347</td>\n",
       "      <td>532</td>\n",
       "      <td>429</td>\n",
       "    </tr>\n",
       "    <tr>\n",
       "      <th>1</th>\n",
       "      <td>271</td>\n",
       "      <td>261</td>\n",
       "      <td>488</td>\n",
       "      <td>504</td>\n",
       "      <td>276</td>\n",
       "      <td>1084</td>\n",
       "      <td>89</td>\n",
       "      <td>23</td>\n",
       "      <td>409</td>\n",
       "      <td>34</td>\n",
       "      <td>...</td>\n",
       "      <td>263</td>\n",
       "      <td>1032</td>\n",
       "      <td>294</td>\n",
       "      <td>74</td>\n",
       "      <td>269</td>\n",
       "      <td>252</td>\n",
       "      <td>98</td>\n",
       "      <td>265</td>\n",
       "      <td>233</td>\n",
       "      <td>293</td>\n",
       "    </tr>\n",
       "  </tbody>\n",
       "</table>\n",
       "<p>2 rows × 760 columns</p>\n",
       "</div>"
      ],
      "text/plain": [
       "   acu-edu   acadiau-ca   adrian-edu   agnesscott-edu   aims-edu  \\\n",
       "0      396          381          488              506        333   \n",
       "1      271          261          488              504        276   \n",
       "\n",
       "    uni-freiburg-de   alfred-edu   alvernia-edu   alverno-edu   american-edu  \\\n",
       "0              1327          132             70           456            121   \n",
       "1              1084           89             23           409             34   \n",
       "\n",
       "    ...      williams-edu   wsc-nodak-edu   winona-msus-edu   wpi-edu  \\\n",
       "0   ...               220            1898               434       125   \n",
       "1   ...               263            1032               294        74   \n",
       "\n",
       "    wright-edu   yale-edu   yu-edu   yorku-ca   upenn-edu   ens-fr  \n",
       "0          304         94      460        347         532      429  \n",
       "1          269        252       98        265         233      293  \n",
       "\n",
       "[2 rows x 760 columns]"
      ]
     },
     "execution_count": 10,
     "metadata": {},
     "output_type": "execute_result"
    }
   ],
   "source": [
    "df.head(2)"
   ]
  },
  {
   "cell_type": "code",
   "execution_count": 11,
   "metadata": {
    "collapsed": false
   },
   "outputs": [],
   "source": [
    "mini = df.ix[:,:10]"
   ]
  },
  {
   "cell_type": "code",
   "execution_count": 12,
   "metadata": {
    "collapsed": false
   },
   "outputs": [
    {
     "data": {
      "text/html": [
       "<div>\n",
       "<table border=\"1\" class=\"dataframe\">\n",
       "  <thead>\n",
       "    <tr style=\"text-align: right;\">\n",
       "      <th></th>\n",
       "      <th>acu-edu</th>\n",
       "      <th>acadiau-ca</th>\n",
       "      <th>adrian-edu</th>\n",
       "      <th>agnesscott-edu</th>\n",
       "      <th>aims-edu</th>\n",
       "      <th>uni-freiburg-de</th>\n",
       "      <th>alfred-edu</th>\n",
       "      <th>alvernia-edu</th>\n",
       "      <th>alverno-edu</th>\n",
       "      <th>american-edu</th>\n",
       "    </tr>\n",
       "  </thead>\n",
       "  <tbody>\n",
       "    <tr>\n",
       "      <th>0</th>\n",
       "      <td>396</td>\n",
       "      <td>381</td>\n",
       "      <td>488</td>\n",
       "      <td>506</td>\n",
       "      <td>333</td>\n",
       "      <td>1327</td>\n",
       "      <td>132</td>\n",
       "      <td>70</td>\n",
       "      <td>456</td>\n",
       "      <td>121</td>\n",
       "    </tr>\n",
       "    <tr>\n",
       "      <th>1</th>\n",
       "      <td>271</td>\n",
       "      <td>261</td>\n",
       "      <td>488</td>\n",
       "      <td>504</td>\n",
       "      <td>276</td>\n",
       "      <td>1084</td>\n",
       "      <td>89</td>\n",
       "      <td>23</td>\n",
       "      <td>409</td>\n",
       "      <td>34</td>\n",
       "    </tr>\n",
       "  </tbody>\n",
       "</table>\n",
       "</div>"
      ],
      "text/plain": [
       "   acu-edu   acadiau-ca   adrian-edu   agnesscott-edu   aims-edu  \\\n",
       "0      396          381          488              506        333   \n",
       "1      271          261          488              504        276   \n",
       "\n",
       "    uni-freiburg-de   alfred-edu   alvernia-edu   alverno-edu   american-edu  \n",
       "0              1327          132             70           456            121  \n",
       "1              1084           89             23           409             34  "
      ]
     },
     "execution_count": 12,
     "metadata": {},
     "output_type": "execute_result"
    }
   ],
   "source": [
    "mini.head(2)"
   ]
  },
  {
   "cell_type": "code",
   "execution_count": 13,
   "metadata": {
    "collapsed": false
   },
   "outputs": [
    {
     "data": {
      "text/plain": [
       "[<matplotlib.lines.Line2D at 0x107ce5400>]"
      ]
     },
     "execution_count": 13,
     "metadata": {},
     "output_type": "execute_result"
    },
    {
     "data": {
      "image/png": "[encoded data removed]",
      "text/plain": [
       "<matplotlib.figure.Figure at 0x107c40668>"
      ]
     },
     "metadata": {},
     "output_type": "display_data"
    }
   ],
   "source": [
    "plt.title(\"Mean Latency per arm\")\n",
    "plt.plot(sorted(mini.mean()))"
   ]
  },
  {
   "cell_type": "code",
   "execution_count": 14,
   "metadata": {
    "collapsed": false
   },
   "outputs": [
    {
     "name": "stdout",
     "output_type": "stream",
     "text": [
      "optimal strategy (oracle) mean reward: 26.54\n",
      "worst: 1933.03\n",
      "random: 400.47\n",
      "improvement ratio opt/rand: 15x\n"
     ]
    }
   ],
   "source": [
    "optimal = mini.min(axis=1).mean()\n",
    "worst = mini.max(axis=1).mean()\n",
    "random = np.mean(\n",
    "    [ np.mean([np.random.choice(mini.ix[:, t]) for t in range(mini.shape[1])]) for _ in range(30) ]\n",
    ")\n",
    "print(\"optimal strategy (oracle) mean reward: %.2f\" % optimal)\n",
    "print(\"worst: %.2f\" % worst)\n",
    "print(\"random: %.2f\" % random)\n",
    "print(\"improvement ratio opt/rand: %dx\" % (random/optimal))"
   ]
  },
  {
   "cell_type": "markdown",
   "metadata": {},
   "source": [
    "# Algorithms"
   ]
  },
  {
   "cell_type": "code",
   "execution_count": 41,
   "metadata": {
    "collapsed": false
   },
   "outputs": [],
   "source": [
    "class Bandit():\n",
    "    def __init__(self, n_arms):\n",
    "        self.n_arms = n_arms\n",
    "    def pull(self) -> int:\n",
    "        raise NotImplemented()\n",
    "    def feedback(self, arm: int, reward):\n",
    "        raise NotImplemented()    \n",
    "        \n",
    "class WeightedRandomBandit(Bandit):\n",
    "    def __init__(self, n_arms):\n",
    "        Bandit.__init__(self, n_arms)\n",
    "        self.reward_sum_per_arm = np.zeros(n_arms)\n",
    "        self.actions_per_arm = np.zeros(n_arms)        \n",
    "    def pull(self) -> int:\n",
    "        unpulled_arms = [_ for _ in range(self.n_arms) if self.actions_per_arm[_] < 1]\n",
    "        if len(unpulled_arms):\n",
    "            return np.random.choice(unpulled_arms)\n",
    "        arms_weights = self.reward_sum_per_arm/self.actions_per_arm\n",
    "        arms_weights = 1 / arms_weights\n",
    "        arms_weights = arms_weights / np.sum(arms_weights)\n",
    "        return np.random.choice(self.n_arms, p=arms_weights)\n",
    "    def feedback(self, arm: int, reward):\n",
    "        self.actions_per_arm[arm] += 1\n",
    "        self.reward_sum_per_arm[arm] += 1"
   ]
  },
  {
   "cell_type": "markdown",
   "metadata": {},
   "source": [
    "# Evaluation"
   ]
  },
  {
   "cell_type": "code",
   "execution_count": 120,
   "metadata": {
    "collapsed": false
   },
   "outputs": [
    {
     "data": {
      "text/plain": [
       "40.316678912564292"
      ]
     },
     "execution_count": 120,
     "metadata": {},
     "output_type": "execute_result"
    }
   ],
   "source": [
    "exp.data.mean().min()"
   ]
  },
  {
   "cell_type": "code",
   "execution_count": 139,
   "metadata": {
    "collapsed": false
   },
   "outputs": [],
   "source": [
    "class Experiment():\n",
    "    def __init__(self, dataframe: pd.DataFrame):\n",
    "        self.data = dataframe\n",
    "        self.actions = []\n",
    "        self.regrets = []\n",
    "        self.actions_per_arm = np.zeros(self.n_arms)\n",
    "        self.reward_sum_per_arm = np.zeros(self.n_arms)\n",
    "    @property\n",
    "    def n_arms(self):\n",
    "        return self.data.shape[1]\n",
    "    def run(self, b: Bandit):\n",
    "        for t in range(self.data.shape[0]):\n",
    "            a = b.pull()\n",
    "            r = self.data.ix[t, a]\n",
    "            b.feedback(a, r)\n",
    "            self.actions += [a]\n",
    "            self.regrets += [r - self.data.ix[t,:].min()]\n",
    "            self.actions_per_arm[a] += 1\n",
    "            self.reward_sum_per_arm += 1\n",
    "    \n",
    "    @property\n",
    "    def mean_regret(self):\n",
    "        return np.mean(self.regrets)\n",
    "    \n",
    "    @property\n",
    "    def total_regret(self):\n",
    "        return np.sum(self.regrets)\n",
    "\n",
    "    def regret_analysis(self):\n",
    "        optimal = self.data.min(axis=1).mean()\n",
    "        worst = self.data.max(axis=1).mean()\n",
    "        random = np.mean(\n",
    "            [ np.mean([np.random.choice(self.data.ix[:, t]) for t in range(self.data.shape[1])]) for _ in range(30) ]\n",
    "        )\n",
    "        return pd.DataFrame(data={\n",
    "                'E[R]*': [optimal],\n",
    "                'E[R]^rand': [random],\n",
    "                'E[R]': [self.mean_regret],\n",
    "                'E[R]/E[R]^rand': [np.round(self.mean_regret/random, decimals=2)],\n",
    "                'E[R]/E[R]*': [np.round(self.mean_regret/optimal, decimals=2)]\n",
    "            })\n",
    "    \n",
    "    def arms_analysis(self):\n",
    "        true_means = self.data.mean()\n",
    "        comp = pd.DataFrame(pd.concat([\n",
    "                    true_means, \n",
    "                    pd.Series(self.actions_per_arm, index=true_means.index),\n",
    "                    pd.Series(self.reward_sum_per_arm/self.actions_per_arm, index=true_means.index),\n",
    "                ], axis=1).values, columns=['true_mean_reward', 'pull_count', 'observed_mean_reward'])\n",
    "        return comp.sort_values(by='true_mean_reward')\n",
    "    \n",
    "    def cumulated_regret_analysis(self):\n",
    "        rng = pd.date_range('1/1/2011', periods=len(self.regrets), freq='600s')\n",
    "        mean_delta = self.data.mean().max() - self.data.mean().min()\n",
    "        print(mean_delta)\n",
    "        ts = pd.DataFrame(data={\n",
    "                #'cumulated_regret': np.cumsum(self.regrets), \n",
    "                'mean_cumulated_regret': np.cumsum(self.regrets) / np.cumsum(np.ones(len(self.regrets))),\n",
    "                #'full monitoring regret bound': np.ones(len(self.regrets))* (1 / mean_delta)\n",
    "            }, index=rng)\n",
    "        return ts"
   ]
  },
  {
   "cell_type": "code",
   "execution_count": 140,
   "metadata": {
    "collapsed": false
   },
   "outputs": [
    {
     "name": "stdout",
     "output_type": "stream",
     "text": [
      "         E[R]      E[R]*  E[R]/E[R]*  E[R]/E[R]^rand  E[R]^rand\n",
      "0  408.681852  26.537105        15.4            1.05     390.48\n",
      "   true_mean_reward  pull_count  observed_mean_reward\n",
      "7         40.316679         145              9.386207\n",
      "9        162.451874         149              9.134228\n",
      "6        173.508450         149              9.134228\n",
      "1        223.562821         139              9.791367\n",
      "4        312.650257         124             10.975806\n",
      "0        391.088170         121             11.247934\n",
      "8        428.579721         134             10.156716\n",
      "3        478.344600         136             10.007353\n",
      "2        531.591477         136             10.007353\n",
      "5       1433.167524         128             10.632812\n",
      "1392.85084497\n"
     ]
    },
    {
     "data": {
      "text/plain": [
       "<matplotlib.axes._subplots.AxesSubplot at 0x11d8dfcc0>"
      ]
     },
     "execution_count": 140,
     "metadata": {},
     "output_type": "execute_result"
    },
    {
     "data": {
      "image/png": "[encoded data removed]",
      "text/plain": [
       "<matplotlib.figure.Figure at 0x11dcceba8>"
      ]
     },
     "metadata": {},
     "output_type": "display_data"
    }
   ],
   "source": [
    "exp = Experiment(mini)\n",
    "b = WeightedRandomBandit(exp.n_arms)\n",
    "exp.run(b)\n",
    "print(exp.regret_analysis())\n",
    "print(exp.arms_analysis())\n",
    "exp.cumulated_regret_analysis().plot()"
   ]
  }
 ],
 "metadata": {
  "kernelspec": {
   "display_name": "Python 3",
   "language": "python",
   "name": "python3"
  },
  "language_info": {
   "codemirror_mode": {
    "name": "ipython",
    "version": 3
   },
   "file_extension": ".py",
   "mimetype": "text/x-python",
   "name": "python",
   "nbconvert_exporter": "python",
   "pygments_lexer": "ipython3",
   "version": "3.5.1"
  }
 },
 "nbformat": 4,
 "nbformat_minor": 0
}
